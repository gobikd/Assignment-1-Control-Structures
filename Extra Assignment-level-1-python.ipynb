{
 "cells": [
  {
   "cell_type": "code",
   "execution_count": 1,
   "id": "9f5e0363",
   "metadata": {},
   "outputs": [
    {
     "name": "stdout",
     "output_type": "stream",
     "text": [
      "HOPE AI\n"
     ]
    }
   ],
   "source": [
    "#print statement\n",
    "print(\"HOPE AI\")"
   ]
  },
  {
   "cell_type": "code",
   "execution_count": 6,
   "id": "bb28ab1e",
   "metadata": {},
   "outputs": [
    {
     "name": "stdout",
     "output_type": "stream",
     "text": [
      "Enter your institute name? : HOPE AI\n",
      "Enter your institue name? : HOPE AI\n"
     ]
    }
   ],
   "source": [
    "#Buy Input\n",
    "Institute_Name=input(\"Enter your institute name? : \")\n",
    "print(\"Enter your institue name? :\",Institute_Name)"
   ]
  },
  {
   "cell_type": "code",
   "execution_count": 8,
   "id": "4a9d0826",
   "metadata": {},
   "outputs": [
    {
     "name": "stdout",
     "output_type": "stream",
     "text": [
      "Enter your name: Raj\n",
      "Enter your age: 15\n",
      "Enter your school name: Guru School\n",
      "Enter your degree: B.E.CSE\n"
     ]
    }
   ],
   "source": [
    "#Buy Input\n",
    "Name=input (\"Enter your name: \")\n",
    "Age=input(\"Enter your age: \")\n",
    "School=input(\"Enter your school name: \")\n",
    "Degree=input(\"Enter your degree: \")"
   ]
  },
  {
   "cell_type": "code",
   "execution_count": 11,
   "id": "da66d119",
   "metadata": {},
   "outputs": [
    {
     "name": "stdout",
     "output_type": "stream",
     "text": [
      "a= 43\n",
      "b= 34\n",
      "add= 77\n"
     ]
    }
   ],
   "source": [
    "#Addition\n",
    "a=43\n",
    "b=34\n",
    "add=a+b\n",
    "print('a=',a)\n",
    "print('b=',b)\n",
    "print('add=',add)"
   ]
  },
  {
   "cell_type": "code",
   "execution_count": 13,
   "id": "2cb7003a",
   "metadata": {},
   "outputs": [
    {
     "name": "stdout",
     "output_type": "stream",
     "text": [
      "a= 43\n",
      "b= 34\n",
      "Sub= 9\n"
     ]
    }
   ],
   "source": [
    "#Subtraction\n",
    "a=43\n",
    "b=34\n",
    "Sub=a-b\n",
    "print('a=',a)\n",
    "print('b=',b)\n",
    "print('Sub=',Sub)"
   ]
  },
  {
   "cell_type": "code",
   "execution_count": 14,
   "id": "dc248162",
   "metadata": {},
   "outputs": [
    {
     "name": "stdout",
     "output_type": "stream",
     "text": [
      "a= 63\n",
      "b= 97\n",
      "mul= 6111\n"
     ]
    }
   ],
   "source": [
    "#Multiplication\n",
    "a=63\n",
    "b=97\n",
    "mul=a*b\n",
    "print('a=',a)\n",
    "print('b=',b)\n",
    "print('mul=',mul)"
   ]
  },
  {
   "cell_type": "code",
   "execution_count": 15,
   "id": "4032aa69",
   "metadata": {},
   "outputs": [
    {
     "name": "stdout",
     "output_type": "stream",
     "text": [
      "a= 76\n",
      "b= 31\n",
      "Float Div= 2.4516129032258065\n"
     ]
    }
   ],
   "source": [
    "#Division\n",
    "a=76\n",
    "b=31\n",
    "Float_Div=a/b\n",
    "print('a=',a)\n",
    "print('b=',b)\n",
    "print('Float Div=',Float_Div)"
   ]
  },
  {
   "cell_type": "code",
   "execution_count": 2,
   "id": "2b01c7a5",
   "metadata": {},
   "outputs": [
    {
     "name": "stdout",
     "output_type": "stream",
     "text": [
      "a= 76\n",
      "b= 31\n",
      "Floor Div= 2\n"
     ]
    }
   ],
   "source": [
    "#Floor division\n",
    "a=76\n",
    "b=31\n",
    "Floor_Div=a//b\n",
    "print('a=',a)\n",
    "print('b=',b)\n",
    "print('Floor Div=',Floor_Div)"
   ]
  },
  {
   "cell_type": "code",
   "execution_count": 3,
   "id": "82700cdf",
   "metadata": {},
   "outputs": [
    {
     "name": "stdout",
     "output_type": "stream",
     "text": [
      "a=70\n",
      "b=31\n",
      "Modulo: 8\n"
     ]
    }
   ],
   "source": [
    "#Modulo\n",
    "a=76\n",
    "b=31\n",
    "print(\"a=70\")\n",
    "print(\"b=31\")\n",
    "print(\"Modulo:\",a%b)"
   ]
  },
  {
   "cell_type": "code",
   "execution_count": 6,
   "id": "0b14e35b",
   "metadata": {},
   "outputs": [
    {
     "name": "stdout",
     "output_type": "stream",
     "text": [
      "a= 4\n",
      "b= 4\n",
      "Power= 256\n"
     ]
    }
   ],
   "source": [
    "#Power\n",
    "a=4\n",
    "b=4\n",
    "print(\"a=\",a)\n",
    "print(\"b=\",b)\n",
    "print(\"Power=\",a**b)"
   ]
  },
  {
   "cell_type": "code",
   "execution_count": null,
   "id": "139e850e",
   "metadata": {},
   "outputs": [],
   "source": []
  }
 ],
 "metadata": {
  "kernelspec": {
   "display_name": "Python 3",
   "language": "python",
   "name": "python3"
  },
  "language_info": {
   "codemirror_mode": {
    "name": "ipython",
    "version": 3
   },
   "file_extension": ".py",
   "mimetype": "text/x-python",
   "name": "python",
   "nbconvert_exporter": "python",
   "pygments_lexer": "ipython3",
   "version": "3.8.8"
  }
 },
 "nbformat": 4,
 "nbformat_minor": 5
}
