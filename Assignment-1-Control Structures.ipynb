{
 "cells": [
  {
   "cell_type": "code",
   "execution_count": 1,
   "id": "866b6613",
   "metadata": {},
   "outputs": [
    {
     "name": "stdout",
     "output_type": "stream",
     "text": [
      "Welcome to Assignment-1\n"
     ]
    }
   ],
   "source": [
    "# print statement\n",
    "print(\"Welcome to Assignment-1\")\n"
   ]
  },
  {
   "cell_type": "code",
   "execution_count": null,
   "id": "abafc849",
   "metadata": {},
   "outputs": [],
   "source": []
  },
  {
   "cell_type": "code",
   "execution_count": 6,
   "id": "dc9c70b0",
   "metadata": {},
   "outputs": [
    {
     "name": "stdout",
     "output_type": "stream",
     "text": [
      "Num1= 10\n",
      "Num2= 30\n",
      "Add= 40\n"
     ]
    }
   ],
   "source": [
    "#print statement and value\n",
    "Num1=10\n",
    "Num2=30\n",
    "Add=Num1+Num2\n",
    "print(f\"Num1= {Num1}\\nNum2= {Num2}\\nAdd= {Num1 + Num2}\")# Method 1. Uses f-string in {call} for function call. Uses n/ next row\n",
    "                                                        # Method 2. Uses print (f\"\"\"{Num1}{Num2}{Add}\"\"\"),Must ent for each {}\n",
    "                                                        #           to get similar display"
   ]
  },
  {
   "cell_type": "code",
   "execution_count": null,
   "id": "eb969405",
   "metadata": {},
   "outputs": [],
   "source": [
    "#Body Mass Index"
   ]
  },
  {
   "cell_type": "code",
   "execution_count": 16,
   "id": "2e3a9832",
   "metadata": {},
   "outputs": [
    {
     "name": "stdout",
     "output_type": "stream",
     "text": [
      "Enter the BMI Index :21\n",
      "Healthy Weight\n"
     ]
    }
   ],
   "source": [
    "BMI=int(input(\"Enter the BMI Index :\"))#Dcl Interger, otherwise would be string\n",
    "if(BMI<18):                            #Operator on lowest if(condition) must ends with :\n",
    "    print(\"Underweight\")               #print need ()& andthing within \"\" string, doesn't have :\n",
    "elif(BMI<25):                          #BMI within 18 to 24\n",
    "    print(\"Healthy Weight\")\n",
    "elif(BMI<30):                          #BMI within 25 to 29\n",
    "    print(\"Overweight\")\n",
    "else:                                  #else statement finishes remaining with output, else do no have (), just :\n",
    "    print(\"Very Overweight\")           # Input 30 and onwards is overweight\n",
    "    # ref: https://www.cdc.gov/bmi/adult-calculator/bmi-categories.html#:~:text=kg/m2)-,Underweight,Reading:%20BMI%20Frequently%20Asked%20Questions"
   ]
  },
  {
   "cell_type": "code",
   "execution_count": null,
   "id": "1080992a",
   "metadata": {},
   "outputs": [],
   "source": []
  },
  {
   "cell_type": "code",
   "execution_count": null,
   "id": "f7b2126d",
   "metadata": {},
   "outputs": [],
   "source": []
  }
 ],
 "metadata": {
  "kernelspec": {
   "display_name": "Python 3",
   "language": "python",
   "name": "python3"
  },
  "language_info": {
   "codemirror_mode": {
    "name": "ipython",
    "version": 3
   },
   "file_extension": ".py",
   "mimetype": "text/x-python",
   "name": "python",
   "nbconvert_exporter": "python",
   "pygments_lexer": "ipython3",
   "version": "3.8.8"
  }
 },
 "nbformat": 4,
 "nbformat_minor": 5
}
